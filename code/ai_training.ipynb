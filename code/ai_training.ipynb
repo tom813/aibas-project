{
 "cells": [
  {
   "cell_type": "code",
   "execution_count": 206,
   "metadata": {},
   "outputs": [],
   "source": [
    "import os\n",
    "import pandas as pd\n",
    "import numpy as np\n",
    "import matplotlib.pyplot as plt\n",
    "import seaborn as sns\n",
    "\n",
    "from sklearn.model_selection import train_test_split\n",
    "from sklearn.metrics import confusion_matrix, classification_report\n",
    "\n",
    "import tensorflow as tf\n",
    "from tensorflow.keras import layers\n",
    "from tensorflow.keras.models import Sequential\n",
    "\n",
    "# For the scatter plot\n",
    "from sklearn.manifold import TSNE"
   ]
  },
  {
   "cell_type": "code",
   "execution_count": 207,
   "metadata": {},
   "outputs": [],
   "source": [
    "OUTPUT_DIR = \"../AI-CPS/code/learningBase/\"\n",
    "os.makedirs(OUTPUT_DIR, exist_ok=True)"
   ]
  },
  {
   "cell_type": "code",
   "execution_count": 208,
   "metadata": {},
   "outputs": [
    {
     "data": {
      "text/html": [
       "<div>\n",
       "<style scoped>\n",
       "    .dataframe tbody tr th:only-of-type {\n",
       "        vertical-align: middle;\n",
       "    }\n",
       "\n",
       "    .dataframe tbody tr th {\n",
       "        vertical-align: top;\n",
       "    }\n",
       "\n",
       "    .dataframe thead th {\n",
       "        text-align: right;\n",
       "    }\n",
       "</style>\n",
       "<table border=\"1\" class=\"dataframe\">\n",
       "  <thead>\n",
       "    <tr style=\"text-align: right;\">\n",
       "      <th></th>\n",
       "      <th>tweet</th>\n",
       "      <th>sarcastic</th>\n",
       "    </tr>\n",
       "  </thead>\n",
       "  <tbody>\n",
       "    <tr>\n",
       "      <th>0</th>\n",
       "      <td>The only thing I got from college is a caffein...</td>\n",
       "      <td>1</td>\n",
       "    </tr>\n",
       "    <tr>\n",
       "      <th>1</th>\n",
       "      <td>I love it when professors draw a big question ...</td>\n",
       "      <td>1</td>\n",
       "    </tr>\n",
       "    <tr>\n",
       "      <th>2</th>\n",
       "      <td>Remember the hundred emails from companies whe...</td>\n",
       "      <td>1</td>\n",
       "    </tr>\n",
       "    <tr>\n",
       "      <th>3</th>\n",
       "      <td>Today my pop-pop told me I was not “forced” to...</td>\n",
       "      <td>1</td>\n",
       "    </tr>\n",
       "    <tr>\n",
       "      <th>4</th>\n",
       "      <td>@VolphanCarol @littlewhitty @mysticalmanatee I...</td>\n",
       "      <td>1</td>\n",
       "    </tr>\n",
       "  </tbody>\n",
       "</table>\n",
       "</div>"
      ],
      "text/plain": [
       "                                               tweet  sarcastic\n",
       "0  The only thing I got from college is a caffein...          1\n",
       "1  I love it when professors draw a big question ...          1\n",
       "2  Remember the hundred emails from companies whe...          1\n",
       "3  Today my pop-pop told me I was not “forced” to...          1\n",
       "4  @VolphanCarol @littlewhitty @mysticalmanatee I...          1"
      ]
     },
     "execution_count": 208,
     "metadata": {},
     "output_type": "execute_result"
    }
   ],
   "source": [
    "df = pd.read_csv(\"../AI-CPS/data/joint_data_collection.csv\")\n",
    "df.head()"
   ]
  },
  {
   "cell_type": "code",
   "execution_count": 209,
   "metadata": {},
   "outputs": [
    {
     "name": "stdout",
     "output_type": "stream",
     "text": [
      "0    74.992789\n",
      "1    25.007211\n",
      "Name: sarcastic, dtype: float64\n"
     ]
    }
   ],
   "source": [
    "percentages = df[\"sarcastic\"].value_counts(normalize=True) * 100\n",
    "print(percentages)\n"
   ]
  },
  {
   "cell_type": "code",
   "execution_count": 210,
   "metadata": {},
   "outputs": [],
   "source": [
    "tweets = df[\"tweet\"].astype(str).values\n",
    "labels = df[\"sarcastic\"].astype(int).values\n",
    "\n",
    "X_train, X_test, y_train, y_test = train_test_split(\n",
    "    tweets, labels, test_size=0.2, random_state=42\n",
    ")\n"
   ]
  },
  {
   "cell_type": "code",
   "execution_count": 211,
   "metadata": {},
   "outputs": [
    {
     "name": "stdout",
     "output_type": "stream",
     "text": [
      "Vectorized shape: (2773, 50)\n"
     ]
    }
   ],
   "source": [
    "# Maximum number of tokens (vocabulary size)\n",
    "max_tokens = 1000  \n",
    "# Maximum length (in tokens) for each tweet\n",
    "sequence_length = 50\n",
    "\n",
    "vectorizer = layers.TextVectorization(\n",
    "    max_tokens=max_tokens, \n",
    "    output_mode='int',\n",
    "    output_sequence_length=sequence_length\n",
    ")\n",
    "\n",
    "# \"Adapt\" the vectorizer to your training tweets (i.e. build the vocabulary)\n",
    "vectorizer.adapt(X_train)\n",
    "\n",
    "# Vectorize the text (convert to integer sequences)\n",
    "X_train_vec = vectorizer(X_train)\n",
    "X_test_vec = vectorizer(X_test)\n",
    "\n",
    "print(\"Vectorized shape:\", X_train_vec.shape)\n",
    "# e.g. (num_samples, 50)\n"
   ]
  },
  {
   "cell_type": "code",
   "execution_count": 212,
   "metadata": {},
   "outputs": [
    {
     "data": {
      "text/plain": [
       "<tf.Tensor: shape=(2773, 50), dtype=int64, numpy=\n",
       "array([[  7, 304, 289, ...,   0,   0,   0],\n",
       "       [ 33, 353,   1, ...,   0,   0,   0],\n",
       "       [ 10,  79, 782, ...,   0,   0,   0],\n",
       "       ...,\n",
       "       [  3, 846,  28, ...,   0,   0,   0],\n",
       "       [ 35,  45,  21, ...,   0,   0,   0],\n",
       "       [315,  29,   7, ...,   0,   0,   0]])>"
      ]
     },
     "execution_count": 212,
     "metadata": {},
     "output_type": "execute_result"
    }
   ],
   "source": [
    "X_train_vec"
   ]
  },
  {
   "cell_type": "code",
   "execution_count": 256,
   "metadata": {},
   "outputs": [
    {
     "name": "stdout",
     "output_type": "stream",
     "text": [
      "Model: \"sequential_7\"\n",
      "_________________________________________________________________\n",
      " Layer (type)                Output Shape              Param #   \n",
      "=================================================================\n",
      " embedding_7 (Embedding)     (None, 50, 64)            64000     \n",
      "                                                                 \n",
      " conv1d (Conv1D)             (None, 46, 64)            20544     \n",
      "                                                                 \n",
      " global_max_pooling1d (Globa  (None, 64)               0         \n",
      " lMaxPooling1D)                                                  \n",
      "                                                                 \n",
      " dropout_5 (Dropout)         (None, 64)                0         \n",
      "                                                                 \n",
      " dense_15 (Dense)            (None, 16)                1040      \n",
      "                                                                 \n",
      " dense_16 (Dense)            (None, 1)                 17        \n",
      "                                                                 \n",
      "=================================================================\n",
      "Total params: 85,601\n",
      "Trainable params: 85,601\n",
      "Non-trainable params: 0\n",
      "_________________________________________________________________\n"
     ]
    }
   ],
   "source": [
    "vocab_size = max_tokens  # same as we used in TextVectorization\n",
    "embedding_dim = 64\n",
    "\n",
    "model = Sequential([\n",
    "    # Input: integer sequences of length `sequence_length`\n",
    "    layers.Embedding(input_dim=vocab_size, output_dim=embedding_dim, input_length=sequence_length),\n",
    "    \n",
    "    # Convolution layer: detects local n-gram features\n",
    "    layers.Conv1D(filters=64, kernel_size=5, activation='relu'),\n",
    "    \n",
    "    # Global max pooling to condense the features into a single vector\n",
    "    layers.GlobalMaxPooling1D(),\n",
    "    \n",
    "    # Dropout to reduce overfitting\n",
    "    layers.Dropout(0.5),\n",
    "    \n",
    "    # Dense layers for classification\n",
    "    layers.Dense(16, activation='relu'),\n",
    "    layers.Dense(1, activation='sigmoid')  # binary classification output\n",
    "])\n",
    "\n",
    "model.compile(\n",
    "    loss='binary_crossentropy',\n",
    "    optimizer='adam',\n",
    "    metrics=['accuracy']\n",
    ")\n",
    "\n",
    "model.summary()\n"
   ]
  },
  {
   "cell_type": "code",
   "execution_count": 257,
   "metadata": {},
   "outputs": [
    {
     "name": "stdout",
     "output_type": "stream",
     "text": [
      "Epoch 1/10\n",
      "50/50 [==============================] - 1s 6ms/step - loss: 0.5921 - accuracy: 0.7335 - val_loss: 0.5385 - val_accuracy: 0.7734\n",
      "Epoch 2/10\n",
      "50/50 [==============================] - 0s 4ms/step - loss: 0.5567 - accuracy: 0.7575 - val_loss: 0.5380 - val_accuracy: 0.7734\n",
      "Epoch 3/10\n",
      "50/50 [==============================] - 0s 4ms/step - loss: 0.5470 - accuracy: 0.7575 - val_loss: 0.5380 - val_accuracy: 0.7734\n",
      "Epoch 4/10\n",
      "50/50 [==============================] - 0s 5ms/step - loss: 0.5291 - accuracy: 0.7575 - val_loss: 0.5379 - val_accuracy: 0.7734\n",
      "Epoch 5/10\n",
      "50/50 [==============================] - 0s 5ms/step - loss: 0.4916 - accuracy: 0.7619 - val_loss: 0.5341 - val_accuracy: 0.7698\n",
      "Epoch 6/10\n",
      "50/50 [==============================] - 0s 6ms/step - loss: 0.4288 - accuracy: 0.7992 - val_loss: 0.5621 - val_accuracy: 0.7410\n",
      "Epoch 7/10\n",
      "50/50 [==============================] - 0s 5ms/step - loss: 0.3569 - accuracy: 0.8469 - val_loss: 0.6040 - val_accuracy: 0.7626\n",
      "Epoch 8/10\n",
      "50/50 [==============================] - 0s 4ms/step - loss: 0.2899 - accuracy: 0.8870 - val_loss: 0.6626 - val_accuracy: 0.7446\n",
      "Epoch 9/10\n",
      "50/50 [==============================] - 0s 4ms/step - loss: 0.2366 - accuracy: 0.9130 - val_loss: 0.7266 - val_accuracy: 0.7230\n",
      "Epoch 10/10\n",
      "50/50 [==============================] - 0s 6ms/step - loss: 0.1898 - accuracy: 0.9295 - val_loss: 0.8212 - val_accuracy: 0.7086\n"
     ]
    }
   ],
   "source": [
    "EPOCHS = 10\n",
    "\n",
    "history = model.fit(\n",
    "    X_train_vec, y_train,\n",
    "    validation_split=0.1,  # some data used for validation\n",
    "    epochs=EPOCHS,             # start small, can increase if you have bigger data\n",
    "    batch_size=50,\n",
    "    verbose=1\n",
    ")\n"
   ]
  },
  {
   "cell_type": "code",
   "execution_count": 258,
   "metadata": {},
   "outputs": [
    {
     "name": "stdout",
     "output_type": "stream",
     "text": [
      "Test Loss: 0.9210\n",
      "Test Accuracy: 0.6960\n"
     ]
    }
   ],
   "source": [
    "test_loss, test_acc = model.evaluate(X_test_vec, y_test, verbose=0)\n",
    "print(f\"Test Loss: {test_loss:.4f}\")\n",
    "print(f\"Test Accuracy: {test_acc:.4f}\")\n"
   ]
  },
  {
   "cell_type": "code",
   "execution_count": 259,
   "metadata": {},
   "outputs": [
    {
     "name": "stdout",
     "output_type": "stream",
     "text": [
      "1/1 [==============================] - 0s 29ms/step\n",
      "I love working 80 hours a week with no overtime pay! -> Sarcastic (score: 0.9101)\n",
      "I am really enjoying the sunshine today. -> Not Sarcastic (score: 0.0781)\n"
     ]
    }
   ],
   "source": [
    "new_tweets = [\n",
    "    \"I love working 80 hours a week with no overtime pay!\",\n",
    "    \"I am really enjoying the sunshine today.\"\n",
    "]\n",
    "new_tweets_vec = vectorizer(new_tweets)\n",
    "predictions = model.predict(new_tweets_vec)\n",
    "\n",
    "for txt, pred in zip(new_tweets, predictions):\n",
    "    label = \"Sarcastic\" if pred >= 0.5 else \"Not Sarcastic\"\n",
    "    print(f\"{txt} -> {label} (score: {pred[0]:.4f})\")\n"
   ]
  },
  {
   "cell_type": "code",
   "execution_count": 263,
   "metadata": {},
   "outputs": [
    {
     "name": "stdout",
     "output_type": "stream",
     "text": [
      "WARNING:tensorflow:Compiled the loaded model, but the compiled metrics have yet to be built. `model.compile_metrics` will be empty until you train or evaluate the model.\n"
     ]
    },
    {
     "name": "stderr",
     "output_type": "stream",
     "text": [
      "WARNING:tensorflow:Compiled the loaded model, but the compiled metrics have yet to be built. `model.compile_metrics` will be empty until you train or evaluate the model.\n"
     ]
    }
   ],
   "source": [
    "model.save(\"sarcasm_model.h5\")"
   ]
  },
  {
   "cell_type": "code",
   "execution_count": 264,
   "metadata": {},
   "outputs": [],
   "source": [
    "!mv sarcasm_model.h5 ../AI-CPS/code/ "
   ]
  },
  {
   "cell_type": "code",
   "execution_count": 180,
   "metadata": {},
   "outputs": [],
   "source": [
    "history_dict = {\n",
    "    \"epoch\": list(range(1, EPOCHS+1)),\n",
    "    \"loss\": history.history[\"loss\"],\n",
    "    \"accuracy\": history.history[\"accuracy\"],\n",
    "    \"val_loss\": history.history[\"val_loss\"],\n",
    "    \"val_accuracy\": history.history[\"val_accuracy\"]\n",
    "}\n",
    "history_df = pd.DataFrame(history_dict)\n",
    "history_log_path = os.path.join(OUTPUT_DIR, \"training_log.csv\")\n",
    "history_df.to_csv(history_log_path, index=False)"
   ]
  },
  {
   "cell_type": "code",
   "execution_count": 181,
   "metadata": {},
   "outputs": [
    {
     "name": "stdout",
     "output_type": "stream",
     "text": [
      "22/22 [==============================] - 0s 3ms/step\n"
     ]
    }
   ],
   "source": [
    "y_pred_probs = model.predict(X_test_vec).ravel()\n",
    "y_pred = (y_pred_probs >= 0.5).astype(int)\n",
    "report = classification_report(y_test, y_pred, digits=4)\n",
    "\n",
    "metrics_file_path = os.path.join(OUTPUT_DIR, \"final_metrics.txt\")\n",
    "with open(metrics_file_path, \"w\") as f:\n",
    "    f.write(f\"Final Test Loss: {test_loss:.4f}\\n\")\n",
    "    f.write(f\"Final Test Accuracy: {test_acc:.4f}\\n\\n\")\n",
    "    f.write(\"Classification Report:\\n\")\n",
    "    f.write(report)"
   ]
  },
  {
   "cell_type": "code",
   "execution_count": 182,
   "metadata": {},
   "outputs": [
    {
     "data": {
      "image/png": "[encoded data removed]",
      "text/plain": [
       "<Figure size 800x600 with 1 Axes>"
      ]
     },
     "metadata": {},
     "output_type": "display_data"
    }
   ],
   "source": [
    "plt.figure(figsize=(8,6))\n",
    "plt.plot(history_df[\"epoch\"], history_df[\"loss\"], label=\"Training Loss\")\n",
    "plt.plot(history_df[\"epoch\"], history_df[\"val_loss\"], label=\"Validation Loss\")\n",
    "plt.plot(history_df[\"epoch\"], history_df[\"accuracy\"], label=\"Training Accuracy\")\n",
    "plt.plot(history_df[\"epoch\"], history_df[\"val_accuracy\"], label=\"Validation Accuracy\")\n",
    "plt.title(\"Training Curves\")\n",
    "plt.xlabel(\"Epoch\")\n",
    "plt.ylabel(\"Loss/Accuracy\")\n",
    "plt.legend()\n",
    "plt.grid(True)\n",
    "training_curve_path = os.path.join(OUTPUT_DIR, \"training_curve.png\")\n",
    "plt.savefig(training_curve_path)\n",
    "plt.show()"
   ]
  },
  {
   "cell_type": "code",
   "execution_count": 183,
   "metadata": {},
   "outputs": [
    {
     "data": {
      "image/png": "[encoded data removed]",
      "text/plain": [
       "<Figure size 500x400 with 2 Axes>"
      ]
     },
     "metadata": {},
     "output_type": "display_data"
    }
   ],
   "source": [
    "cm = confusion_matrix(y_test, y_pred)\n",
    "plt.figure(figsize=(5,4))\n",
    "sns.heatmap(cm, annot=True, fmt=\"d\", cmap=\"Blues\")\n",
    "plt.title(\"Confusion Matrix\")\n",
    "plt.xlabel(\"Predicted\")\n",
    "plt.ylabel(\"Actual\")\n",
    "conf_matrix_path = os.path.join(OUTPUT_DIR, \"confusion_matrix.png\")\n",
    "plt.savefig(conf_matrix_path)\n",
    "plt.show()"
   ]
  },
  {
   "cell_type": "code",
   "execution_count": null,
   "metadata": {},
   "outputs": [],
   "source": []
  }
 ],
 "metadata": {
  "kernelspec": {
   "display_name": "venv-ai-cps",
   "language": "python",
   "name": "venv-ai-cps"
  },
  "language_info": {
   "codemirror_mode": {
    "name": "ipython",
    "version": 3
   },
   "file_extension": ".py",
   "mimetype": "text/x-python",
   "name": "python",
   "nbconvert_exporter": "python",
   "pygments_lexer": "ipython3",
   "version": "3.10.9"
  }
 },
 "nbformat": 4,
 "nbformat_minor": 2
}
